{
 "cells": [
  {
   "cell_type": "markdown",
   "metadata": {
    "id": "FaPfaovG2yjW"
   },
   "source": [
    "# Using Google Colab\n",
    "\n",
    "Read through the **Getting started** paragraph in the [official documentation](https://colab.research.google.com/). You may also want to take a look into the **More resources** section.\n",
    "\n",
    "To add a new code block or text block, use the buttons in the menus above or hover your mouse between two blocks, where more buttons should appear.\n",
    "\n",
    "To execute all code blocks within this document, select `Runtime -> Run all`. When you submit your solution, this should run without throwing an error.\n",
    "\n",
    "Sometimes, previously defined variables cause trouble in later executions. If this is the case, you can select `Runtime -> Restart runtime` to restart the runtime and erase all previous definitions."
   ]
  },
  {
   "cell_type": "markdown",
   "metadata": {
    "id": "EHTS4x5-pJGK"
   },
   "source": [
    "# Work Distribution\n",
    "\n",
    "***Your answer here. (MANDATORY)***"
   ]
  },
  {
   "cell_type": "markdown",
   "metadata": {
    "id": "HGCavid-yeyz"
   },
   "source": [
    "# Initialisation\n",
    "\n",
    "This section contains code that is later used to test, measure and plot your implementations. You need to run it once to initialise it.\n",
    "\n",
    "⇩ Click here to initialise the code."
   ]
  },
  {
   "cell_type": "code",
   "execution_count": 1,
   "metadata": {
    "id": "yeijLV1byk2z"
   },
   "outputs": [],
   "source": [
    "# tests\n",
    "\n",
    "import random\n",
    "\n",
    "def shuffle(list):\n",
    "  random.shuffle(list)\n",
    "  return list\n",
    "\n",
    "tests = [(name, unsorted, sorted(unsorted)) for (name, unsorted) in [\n",
    "    (\"empty list\", []),\n",
    "    (\"one element\", [42]),\n",
    "    (\"digits ascending\", list(range(10))),\n",
    "    (\"digits descending\", list(reversed(range(10)))),\n",
    "    (\"digits shuffled\", shuffle(list(range(10)))),\n",
    "    (\"all entries the same\", [42 for _ in range(10)]),\n",
    "    (\"some duplicates\", shuffle(list(range(10)) + list(range(5)))),\n",
    "    (\"negative numbers\", shuffle([x - 10 for x in list(range(20))])),\n",
    "    (\"float numbers\", shuffle([x * 3.14 for x in list(range(20))])),\n",
    "    (\"mixed numbers\", shuffle([x * 3.14 for x in list(range(10))] + list(range(10)))),\n",
    "    *[(\"random numbers \" + str(idx) + \" (small)\", [random.randrange(1000) for _ in range(20)]) for idx in range(0, 5)],\n",
    "    *[(\"random numbers \" + str(idx) + \" (medium)\", [random.randrange(10000) for _ in range(200)]) for idx in range(5, 10)],\n",
    "    *[(\"random numbers \" + str(idx) + \" (large)\", [random.randrange(100000) for _ in range(2000)]) for idx in range(10, 15)],\n",
    "]]\n",
    "\n",
    "def run_tests(fun):\n",
    "  print(\"executing all tests on %s...\" % (fun.__name__))\n",
    "  ok = 0\n",
    "  err = 0\n",
    "  for name, input, expected in tests:\n",
    "    copy = input.copy()\n",
    "    try:\n",
    "      fun(copy)\n",
    "    except Exception as e:\n",
    "      print(\"Test '%s' raised an exception!\\n  input:     %s\\n  expected:  %s\\n  exception: %s\" % (name, input, expected, e))\n",
    "      raise e\n",
    "    else:\n",
    "      if copy == expected:\n",
    "        print(\"Test '%s' passed!\" % (name))\n",
    "        ok += 1\n",
    "      else:\n",
    "        print(\"Test '%s' failed!\\n  input:     %s\\n  output:    %s\\n  expected:  %s\" % (name, input, copy, expected))\n",
    "        err +=1\n",
    "  print(\"%s (summary): %d/%d OK, %d/%d ERROR\" % (fun.__name__, ok, len(tests), err, len(tests)))\n",
    "\n",
    "# runtime parameters\n",
    "\n",
    "num_samples = 20\n",
    "sizes = [200 * i for i in range(1, 10)]\n",
    "\n",
    "# runtime plot\n",
    "\n",
    "import matplotlib.pyplot as plt\n",
    "\n",
    "def plot_runtime(funs, funs_checkered=None):\n",
    "  for fun in funs:\n",
    "    plt.plot(sizes, runtimeDict[fun.__name__], label=fun.__name__)\n",
    "  if funs_checkered:\n",
    "    plt.gca().set_prop_cycle(None)\n",
    "    for fun in funs_checkered:\n",
    "      plt.plot(sizes, runtimeDict[fun.__name__], '--', label=fun.__name__)\n",
    "\n",
    "  plt.xlabel('List Length')\n",
    "  plt.ylabel('Runtime (seconds)')\n",
    "  plt.title('Runtime vs List Length')\n",
    "\n",
    "  plt.legend()\n",
    "  plt.show()\n",
    "\n",
    "# runtime measurement\n",
    "\n",
    "import time\n",
    "\n",
    "runtimeDict = {}\n",
    "def measure_runtime(funs):\n",
    "  inputs = [[[random.random() for _ in range(size)] for _ in range(num_samples)] for size in sizes]\n",
    "\n",
    "  for fun in funs:\n",
    "    runtimes = []\n",
    "    for batch in inputs:\n",
    "      batch_rt = []\n",
    "      for input in batch:\n",
    "        copy = input.copy()\n",
    "        start_time = time.time()\n",
    "        fun(copy)\n",
    "        end_time = time.time()\n",
    "        batch_rt.append(end_time - start_time)\n",
    "      runtimes.append(min(batch_rt))\n",
    "    runtimeDict[fun.__name__] = runtimes"
   ]
  },
  {
   "cell_type": "markdown",
   "metadata": {
    "id": "__Iv5nnsvP09"
   },
   "source": [
    "# Sorting Algorithms\n",
    "\n",
    "In this exercise, you are going to implement the *Insertion Sort*, *Selection Sort* and *Sink Sort* algorithms.\n",
    "\n",
    "- Each of your sorting functions should accept an unsorted list of numbers and sort it (in place). Of course, you are allowed to add as many helper functions as needed.\n",
    "- Note that arrays (or lists) in the textbook are indexed from 1, whereas in Python (and most other programming languages) they are indexed from 0.\n",
    "- Your implementation should have a good performance with respect to the asymptotic complexity found in the literature.\n",
    "\n",
    "At the bottom of each code block, there is a function call to test your algorithm implementation. Run it to check if your implementation is correct.\n",
    "\n",
    "Below the algorithms in this document, there is a code block that reports runtime statistics. Furthermore, at the end of the document, there are a couple of questions you should answer."
   ]
  },
  {
   "cell_type": "markdown",
   "metadata": {
    "id": "btOQKCwJzRvH"
   },
   "source": [
    "### 1. Insertion Sort (2 points)\n",
    "\n",
    "Implement Insertion Sort as seen in the lecture."
   ]
  },
  {
   "cell_type": "code",
   "execution_count": 2,
   "metadata": {
    "id": "IReujo1Jxo8e"
   },
   "outputs": [],
   "source": [
    "def insertionsort(lst):\n",
    "\n",
    "    for i in range(1,len(lst)):\n",
    "        if lst[i] > lst[i-1]:  # if element is already sorted\n",
    "            continue\n",
    "        else:\n",
    "            idx = i\n",
    "            while idx>0 and lst[idx]<lst[idx-1]:\n",
    "                temp = lst[idx-1]\n",
    "                lst[idx-1] = lst[idx]\n",
    "                lst[idx] = temp\n",
    "                idx -=1\n",
    "\n",
    "    return lst"
   ]
  },
  {
   "cell_type": "code",
   "execution_count": 3,
   "metadata": {},
   "outputs": [
    {
     "data": {
      "text/plain": [
       "[0, 1, 2, 3, 4, 5, 6, 7, 8, 9]"
      ]
     },
     "execution_count": 3,
     "metadata": {},
     "output_type": "execute_result"
    }
   ],
   "source": [
    "lst = [9,8,7,6,5,4,3,2,1,0]\n",
    "insertionsort(lst)"
   ]
  },
  {
   "cell_type": "code",
   "execution_count": 4,
   "metadata": {},
   "outputs": [
    {
     "name": "stdout",
     "output_type": "stream",
     "text": [
      "executing all tests on insertionsort...\n",
      "Test 'empty list' passed!\n",
      "Test 'one element' passed!\n",
      "Test 'digits ascending' passed!\n",
      "Test 'digits descending' passed!\n",
      "Test 'digits shuffled' passed!\n",
      "Test 'all entries the same' passed!\n",
      "Test 'some duplicates' passed!\n",
      "Test 'negative numbers' passed!\n",
      "Test 'float numbers' passed!\n",
      "Test 'mixed numbers' passed!\n",
      "Test 'random numbers 0 (small)' passed!\n",
      "Test 'random numbers 1 (small)' passed!\n",
      "Test 'random numbers 2 (small)' passed!\n",
      "Test 'random numbers 3 (small)' passed!\n",
      "Test 'random numbers 4 (small)' passed!\n",
      "Test 'random numbers 5 (medium)' passed!\n",
      "Test 'random numbers 6 (medium)' passed!\n",
      "Test 'random numbers 7 (medium)' passed!\n",
      "Test 'random numbers 8 (medium)' passed!\n",
      "Test 'random numbers 9 (medium)' passed!\n",
      "Test 'random numbers 10 (large)' passed!\n",
      "Test 'random numbers 11 (large)' passed!\n",
      "Test 'random numbers 12 (large)' passed!\n",
      "Test 'random numbers 13 (large)' passed!\n",
      "Test 'random numbers 14 (large)' passed!\n",
      "insertionsort (summary): 25/25 OK, 0/25 ERROR\n"
     ]
    }
   ],
   "source": [
    "run_tests(insertionsort)"
   ]
  },
  {
   "cell_type": "markdown",
   "metadata": {
    "id": "SmnEzYeX7rdi"
   },
   "source": [
    "### 2. Selection Sort (2 points)\n",
    "\n",
    "Implement Selection Sort, which is a sorting algorithm that proceeds as follows:\n",
    "- Throughout the execution, the array is divided into a sorted lower part and an unsorted upper\n",
    "part.\n",
    "- Initially, the sorted lower part is empty. Upon termination, the sorted lower part spans the\n",
    "whole array.\n",
    "- In each iteration of the algorithm:\n",
    " 1. The algorithm searches for the minimal element of the unsorted upper part.\n",
    " 2. This minimal element is swapped with the first element of the unsorted upper part of\n",
    "the array.\n",
    " 3. The boundary between the sorted lower part and the unsorted upper part is raised by\n",
    "one to include the newly sorted element."
   ]
  },
  {
   "cell_type": "code",
   "execution_count": 5,
   "metadata": {},
   "outputs": [],
   "source": [
    "def selectionsort(lst):\n",
    "    # Initialize\n",
    "    boundary_idx = 0\n",
    "\n",
    "    # Loop over all elements\n",
    "    for i in range(1,len(lst)):\n",
    "        \n",
    "        # Find minimal element in unsorted upper part\n",
    "        mini = lst[boundary_idx] # initialize with minimal element is first element in upper unsorted\n",
    "        for j in range(boundary_idx, len(lst)):\n",
    "            if lst[j] <= mini:\n",
    "                mini = lst[j]\n",
    "                mini_idx = j\n",
    "\n",
    "        # Swap minimal element with beginning element of unsorted upper part\n",
    "        temp = lst[boundary_idx]\n",
    "        lst[boundary_idx] = mini\n",
    "        lst[mini_idx] = temp\n",
    "\n",
    "        # Increment boundary_idx\n",
    "        boundary_idx += 1\n",
    "    \n",
    "    \n",
    "    return lst"
   ]
  },
  {
   "cell_type": "code",
   "execution_count": 6,
   "metadata": {},
   "outputs": [
    {
     "data": {
      "text/plain": [
       "[0, 1, 2, 3, 4, 5, 6, 7, 8, 9]"
      ]
     },
     "execution_count": 6,
     "metadata": {},
     "output_type": "execute_result"
    }
   ],
   "source": [
    "lst = [9,8,7,6,5,4,3,2,1,0]\n",
    "selectionsort(lst)"
   ]
  },
  {
   "cell_type": "code",
   "execution_count": 7,
   "metadata": {
    "id": "AB4eGXwS7vuL",
    "scrolled": false
   },
   "outputs": [
    {
     "name": "stdout",
     "output_type": "stream",
     "text": [
      "executing all tests on selectionsort...\n",
      "Test 'empty list' passed!\n",
      "Test 'one element' passed!\n",
      "Test 'digits ascending' passed!\n",
      "Test 'digits descending' passed!\n",
      "Test 'digits shuffled' passed!\n",
      "Test 'all entries the same' passed!\n",
      "Test 'some duplicates' passed!\n",
      "Test 'negative numbers' passed!\n",
      "Test 'float numbers' passed!\n",
      "Test 'mixed numbers' passed!\n",
      "Test 'random numbers 0 (small)' passed!\n",
      "Test 'random numbers 1 (small)' passed!\n",
      "Test 'random numbers 2 (small)' passed!\n",
      "Test 'random numbers 3 (small)' passed!\n",
      "Test 'random numbers 4 (small)' passed!\n",
      "Test 'random numbers 5 (medium)' passed!\n",
      "Test 'random numbers 6 (medium)' passed!\n",
      "Test 'random numbers 7 (medium)' passed!\n",
      "Test 'random numbers 8 (medium)' passed!\n",
      "Test 'random numbers 9 (medium)' passed!\n",
      "Test 'random numbers 10 (large)' passed!\n",
      "Test 'random numbers 11 (large)' passed!\n",
      "Test 'random numbers 12 (large)' passed!\n",
      "Test 'random numbers 13 (large)' passed!\n",
      "Test 'random numbers 14 (large)' passed!\n",
      "selectionsort (summary): 25/25 OK, 0/25 ERROR\n"
     ]
    }
   ],
   "source": [
    "run_tests(selectionsort)"
   ]
  },
  {
   "cell_type": "markdown",
   "metadata": {
    "id": "3VwRfnzM1gu3"
   },
   "source": [
    "### 3. Sink Sort (2 points)\n",
    "\n",
    "Implement Sink Sort, which is a sorting algorithm that proceeds as follows:\n",
    "- Compare the first and second element of the array. If they are mismatched (the second element is smaller than the first one), swap them.\n",
    "- Compare the second and third element of the array and swap them if they are mismatched.\n",
    "- Continue until the end of the array, i.e. the second to last element and the last element.\n",
    "- If you have swapped at least one pair of elements, repeat from the beginning."
   ]
  },
  {
   "cell_type": "code",
   "execution_count": 8,
   "metadata": {},
   "outputs": [],
   "source": [
    "def sinksort(lst):\n",
    "    \n",
    "    # Variables\n",
    "    main_loop = True\n",
    "    iteration = 1\n",
    "    \n",
    "    # Main loop\n",
    "    while main_loop:\n",
    "    \n",
    "        # Variable for storing if list has been updated\n",
    "        swapped = 0\n",
    "    \n",
    "        # Loop over list\n",
    "        for i in range(len(lst)-1):\n",
    "\n",
    "            # Compare neighbouring elements of the array and swap if smaller\n",
    "            if lst[i+1] < lst[i]:\n",
    "                temp = lst[i]\n",
    "                lst[i] = lst[i+1]\n",
    "                lst[i+1] = temp\n",
    "\n",
    "                swapped = 1\n",
    "                \n",
    "        # Exit main loop if no changes during full iteration\n",
    "        if swapped == 0:\n",
    "            main_loop = False\n",
    "            \n",
    "        # Track iterations\n",
    "        iteration +=1\n",
    "        \n",
    "    return lst"
   ]
  },
  {
   "cell_type": "code",
   "execution_count": 9,
   "metadata": {},
   "outputs": [
    {
     "data": {
      "text/plain": [
       "[0, 1, 2, 3, 4, 5, 6, 7, 8, 9]"
      ]
     },
     "execution_count": 9,
     "metadata": {},
     "output_type": "execute_result"
    }
   ],
   "source": [
    "lst = [9,8,7,6,5,4,3,2,1,0]\n",
    "sinksort(lst)"
   ]
  },
  {
   "cell_type": "code",
   "execution_count": 10,
   "metadata": {
    "id": "lsIff7q51iTq"
   },
   "outputs": [
    {
     "name": "stdout",
     "output_type": "stream",
     "text": [
      "executing all tests on sinksort...\n",
      "Test 'empty list' passed!\n",
      "Test 'one element' passed!\n",
      "Test 'digits ascending' passed!\n",
      "Test 'digits descending' passed!\n",
      "Test 'digits shuffled' passed!\n",
      "Test 'all entries the same' passed!\n",
      "Test 'some duplicates' passed!\n",
      "Test 'negative numbers' passed!\n",
      "Test 'float numbers' passed!\n",
      "Test 'mixed numbers' passed!\n",
      "Test 'random numbers 0 (small)' passed!\n",
      "Test 'random numbers 1 (small)' passed!\n",
      "Test 'random numbers 2 (small)' passed!\n",
      "Test 'random numbers 3 (small)' passed!\n",
      "Test 'random numbers 4 (small)' passed!\n",
      "Test 'random numbers 5 (medium)' passed!\n",
      "Test 'random numbers 6 (medium)' passed!\n",
      "Test 'random numbers 7 (medium)' passed!\n",
      "Test 'random numbers 8 (medium)' passed!\n",
      "Test 'random numbers 9 (medium)' passed!\n",
      "Test 'random numbers 10 (large)' passed!\n",
      "Test 'random numbers 11 (large)' passed!\n",
      "Test 'random numbers 12 (large)' passed!\n",
      "Test 'random numbers 13 (large)' passed!\n",
      "Test 'random numbers 14 (large)' passed!\n",
      "sinksort (summary): 25/25 OK, 0/25 ERROR\n"
     ]
    }
   ],
   "source": [
    "run_tests(sinksort)"
   ]
  },
  {
   "cell_type": "markdown",
   "metadata": {
    "id": "gD-ax-QCWYhh"
   },
   "source": [
    "### 4. Runtime Comparisons (2 points)\n",
    "\n",
    "The following code will measure the runtime of your algorithm implementations.\n",
    "\n",
    "Compare the reported runtimes. What do you observe? How do you explain your observations?"
   ]
  },
  {
   "cell_type": "code",
   "execution_count": 11,
   "metadata": {
    "id": "JZXzNKy9WW3K"
   },
   "outputs": [
    {
     "data": {
      "image/png": "[encoded data removed]",
      "text/plain": [
       "<Figure size 432x288 with 1 Axes>"
      ]
     },
     "metadata": {
      "needs_background": "light"
     },
     "output_type": "display_data"
    }
   ],
   "source": [
    "measure_runtime([insertionsort, selectionsort, sinksort])\n",
    "plot_runtime([insertionsort, selectionsort, sinksort])"
   ]
  },
  {
   "cell_type": "markdown",
   "metadata": {
    "id": "JOf5r0M_ItTV"
   },
   "source": [
    "**Answer:**\n",
    "\n",
    "Insertionsort:\n",
    "@800 = 0.03s, @1600 = 0.13s:        2x length -> 4.33x time\n",
    "\n",
    "selectionsort:\n",
    "@800 = 0.0125s, @1600 = 0.055s:     2x length -> 4,4x time\n",
    "\n",
    "sinksort:\n",
    "@800 = 0.06125s, @1600 = 0.26125s:  2x length -> 4.26x time\n",
    "\n",
    "All algortihms scale as approx: O(n^2).\n",
    "\n",
    "But some are faster than others because it is a more efficient algorithm. We have a smaller constant in front of the terms in the function: t(n) = A*n^2 + B*n + C"
   ]
  },
  {
   "cell_type": "markdown",
   "metadata": {
    "id": "ADU4LvukI-F-"
   },
   "source": [
    "### 5. Modified Sink Sort (1 point)\n",
    "\n",
    "Have another look at the description of Sink Sort. Is it really necessary to go through the whole array in each iteration? Suggest an optimisation, implement it and compare the runtime to the unmodified version.\n",
    "\n"
   ]
  },
  {
   "cell_type": "code",
   "execution_count": 12,
   "metadata": {
    "id": "FJI8vUzSFeB4"
   },
   "outputs": [],
   "source": [
    "def mod_sinksort(lst):\n",
    "    \n",
    "    # Variables\n",
    "    main_loop = True\n",
    "    iteration = 1\n",
    "    \n",
    "    # Main loop\n",
    "    while main_loop:\n",
    "    \n",
    "        # Variable for storing if list has been updated\n",
    "        swapped = 0\n",
    "    \n",
    "        # Loop over list\n",
    "        for i in range(len(lst)-iteration):                                   ###### MADE CHANGE HERE\n",
    "\n",
    "            # Compare neighbouring elements of the array and swap if smaller\n",
    "            if lst[i+1] < lst[i]:\n",
    "                temp = lst[i]\n",
    "                lst[i] = lst[i+1]\n",
    "                lst[i+1] = temp\n",
    "\n",
    "                swapped = 1\n",
    "        \n",
    "        # Exit main loop if no changes during full iteration\n",
    "        if swapped == 0:\n",
    "            main_loop = False\n",
    "            \n",
    "        # Track iterations\n",
    "        iteration +=1\n",
    "        \n",
    "    return lst"
   ]
  },
  {
   "cell_type": "code",
   "execution_count": 13,
   "metadata": {},
   "outputs": [
    {
     "data": {
      "text/plain": [
       "[0, 1, 2, 3, 4, 5, 6, 7, 8, 9]"
      ]
     },
     "execution_count": 13,
     "metadata": {},
     "output_type": "execute_result"
    }
   ],
   "source": [
    "lst = [9,8,7,6,5,4,3,2,1,0]\n",
    "mod_sinksort(lst)"
   ]
  },
  {
   "cell_type": "code",
   "execution_count": 14,
   "metadata": {},
   "outputs": [
    {
     "name": "stdout",
     "output_type": "stream",
     "text": [
      "executing all tests on mod_sinksort...\n",
      "Test 'empty list' passed!\n",
      "Test 'one element' passed!\n",
      "Test 'digits ascending' passed!\n",
      "Test 'digits descending' passed!\n",
      "Test 'digits shuffled' passed!\n",
      "Test 'all entries the same' passed!\n",
      "Test 'some duplicates' passed!\n",
      "Test 'negative numbers' passed!\n",
      "Test 'float numbers' passed!\n",
      "Test 'mixed numbers' passed!\n",
      "Test 'random numbers 0 (small)' passed!\n",
      "Test 'random numbers 1 (small)' passed!\n",
      "Test 'random numbers 2 (small)' passed!\n",
      "Test 'random numbers 3 (small)' passed!\n",
      "Test 'random numbers 4 (small)' passed!\n",
      "Test 'random numbers 5 (medium)' passed!\n",
      "Test 'random numbers 6 (medium)' passed!\n",
      "Test 'random numbers 7 (medium)' passed!\n",
      "Test 'random numbers 8 (medium)' passed!\n",
      "Test 'random numbers 9 (medium)' passed!\n",
      "Test 'random numbers 10 (large)' passed!\n",
      "Test 'random numbers 11 (large)' passed!\n",
      "Test 'random numbers 12 (large)' passed!\n",
      "Test 'random numbers 13 (large)' passed!\n",
      "Test 'random numbers 14 (large)' passed!\n",
      "mod_sinksort (summary): 25/25 OK, 0/25 ERROR\n"
     ]
    }
   ],
   "source": [
    "run_tests(mod_sinksort)"
   ]
  },
  {
   "cell_type": "code",
   "execution_count": 15,
   "metadata": {
    "id": "XURixncCJx0c"
   },
   "outputs": [
    {
     "data": {
      "image/png": "[encoded data removed]",
      "text/plain": [
       "<Figure size 432x288 with 1 Axes>"
      ]
     },
     "metadata": {
      "needs_background": "light"
     },
     "output_type": "display_data"
    }
   ],
   "source": [
    "measure_runtime([mod_sinksort])\n",
    "plot_runtime([insertionsort, selectionsort, sinksort, mod_sinksort])"
   ]
  },
  {
   "cell_type": "markdown",
   "metadata": {
    "id": "yQyoOH5XQ_5F"
   },
   "source": [
    "**Answer:**\n",
    "\n",
    "After each pass over the entire list, the largest element will be moved to the end of the list. This means that after each iteration we have one less element to check since we already know that the last element is the largest one."
   ]
  },
  {
   "cell_type": "markdown",
   "metadata": {
    "id": "NSs85f3Uqpbq"
   },
   "source": [
    "### 6. Runtime approximations (1 point - hard question)\n",
    "\n",
    "Using the statistics from the tests, for each algorithm, find a function `f(n)` which *approximately* describes the runtime of the algorithm in *seconds*, depending on the input size `n`. For example, if Insertion Sort takes 5 milliseconds to sort a list of 1000 numbers and 20 milliseconds to sort a list of 2000 numbers, then it should be that `f_insertion(1000)≈0.005` and `f_insertion(2000)≈0.020`.\n",
    "\n",
    "It is possible to solve this by trial-and-error, but how would you get the answer by a simple calculation?"
   ]
  },
  {
   "cell_type": "markdown",
   "metadata": {},
   "source": [
    "### Make timings"
   ]
  },
  {
   "cell_type": "code",
   "execution_count": 16,
   "metadata": {},
   "outputs": [
    {
     "name": "stdout",
     "output_type": "stream",
     "text": [
      "Elapsed time for sorting:\n",
      "n=4000 -->  t=1.135922908782959\n",
      "n=6000 -->  t=2.53951096534729\n",
      "n=9000 -->  t=5.792694568634033\n"
     ]
    }
   ],
   "source": [
    "import random\n",
    "import time\n",
    "\n",
    "n = [4000,6000,9000]\n",
    "timings = []\n",
    "\n",
    "for lengths in n:\n",
    "    lst = [random.randint(0, 100) for _ in range(lengths)]\n",
    "\n",
    "    t1 = time.time()\n",
    "    sorted_lst = mod_sinksort(lst)  ### Specify sorting algorithm here\n",
    "    timings.append(time.time()-t1)\n",
    "\n",
    "\n",
    "print(f\"Elapsed time for sorting:\")\n",
    "for i in range(len(n)):\n",
    "    print(f\"n={n[i]} -->  t={timings[i]}\")"
   ]
  },
  {
   "cell_type": "markdown",
   "metadata": {},
   "source": [
    "### Functions for calculating time"
   ]
  },
  {
   "cell_type": "code",
   "execution_count": 17,
   "metadata": {},
   "outputs": [],
   "source": [
    "def f_insertion(size):\n",
    "    \"\"\" t(n) = A*n^2 + B*n \"\"\"\n",
    "    A = 5.45568*10**(-8)\n",
    "    B = -6.6768*10**(-6)\n",
    "    \n",
    "    return A*size**2 + B**size\n",
    "\n",
    "def f_selection(size):\n",
    "    \"\"\" t(n) = A*n^2 + B*n \"\"\"\n",
    "    A = 1.99285*10**(-8)\n",
    "    B = 0.00002405\n",
    "    \n",
    "    return A*size**2 + B**size\n",
    "\n",
    "def f_sink(size):\n",
    "    \"\"\" t(n) = A*n^2 + B*n \"\"\"\n",
    "    A = 1.03323*10**(-7)\n",
    "    B = 0.0000159\n",
    "    \n",
    "    return A*size**2 + B**size\n",
    "\n",
    "def f_mod_sink(size):\n",
    "    \"\"\" t(n) = A*n^2 + B*n \"\"\"\n",
    "    A = 6.3574*10**(-8)\n",
    "    B = 0.00003038\n",
    "    \n",
    "    return A*size**2 + B**size\n"
   ]
  },
  {
   "cell_type": "code",
   "execution_count": 18,
   "metadata": {
    "id": "IUrmxtq7DTVA"
   },
   "outputs": [
    {
     "data": {
      "image/png": "[encoded data removed]",
      "text/plain": [
       "<Figure size 432x288 with 1 Axes>"
      ]
     },
     "metadata": {
      "needs_background": "light"
     },
     "output_type": "display_data"
    }
   ],
   "source": [
    "# plot all functions\n",
    "for fun in [f_insertion, f_selection, f_sink, f_mod_sink]:\n",
    "    runtimeDict[fun.__name__] = [fun(size) for size in sizes]\n",
    "plot_runtime([insertionsort, selectionsort, sinksort, mod_sinksort], [f_insertion, f_selection, f_sink, f_mod_sink])"
   ]
  },
  {
   "cell_type": "markdown",
   "metadata": {
    "id": "zHMsfABCWEtj"
   },
   "source": [
    "**Answer:**\n",
    "\n",
    "We assume elapsed time for sorting can be expressed as t(n) = A*n^2 + B*n. We have two unknowns for each sorting algorithm so we make two time measurements and solve a system of equations to solve for A and B.\n",
    "\n",
    "______________________________________________________________\n",
    "**Insertion sort**\n",
    "\n",
    "n=4000  ->  t(n)=0.8462011814117432  ->  0.8462011814117432 = A*4000^2 + B*4000\n",
    "\n",
    "n=6000  ->  t(n)=1.923983097076416   ->  1.923983097076416 = A*6000^2 + B*6000\n",
    "\n",
    "System of eqs gives: A=5.4583*10^-8, B=-6.833*10^-6\n",
    "\n",
    "\n",
    "______________________________________________________________\n",
    "**Selection sort**\n",
    "\n",
    "t(n) = A*n^2 + B*n\n",
    "\n",
    "n=4000  ->  t(n)=0.4150426387786865  ->  0.4150426387786865 = A*4000^2 + B*4000\n",
    "\n",
    "n=6000  ->  t(n)=0.861706018447876   ->  0.861706018447876 = A*6000^2 + B*6000\n",
    "\n",
    "System of eqs gives: A=1.99285*10^-8, B = 0.00002405\n",
    "\n",
    "\n",
    "______________________________________________________________\n",
    "**Sink sort**\n",
    "\n",
    "t(n) = A*n^2 + B*n\n",
    "\n",
    "n=4000  ->  t(n)=1.7167918682098389  ->  1.7167918682098389 = A*4000^2 + B*4000\n",
    "\n",
    "n=6000  ->  t(n)=3.815063953399658   ->  3.815063953399658 = A*6000^2 + B*6000\n",
    "\n",
    "System of eqs gives: A = 1.03323*10^-7, B=0.0000159\n",
    "\n",
    "\n",
    "______________________________________________________________\n",
    "**Modified Sink Sort**\n",
    "\n",
    "t(n) = A*n^2 + B*n\n",
    "\n",
    "n=4000  ->  t(n)=1.138725996017456 ->  1.138725996017456 = A*4000^2 + B*4000\n",
    "\n",
    "n=6000  ->  t(n)=2.470980167388916   ->  2.470980167388916 = A*6000^2 + B*6000\n",
    "\n",
    "System of eqs gives:  A = 6.3574*10^-8, B = 0.00003038\n",
    "\n",
    "\n"
   ]
  },
  {
   "cell_type": "code",
   "execution_count": null,
   "metadata": {},
   "outputs": [],
   "source": []
  }
 ],
 "metadata": {
  "colab": {
   "collapsed_sections": [
    "HGCavid-yeyz"
   ],
   "provenance": []
  },
  "kernelspec": {
   "display_name": "Python 3 (ipykernel)",
   "language": "python",
   "name": "python3"
  },
  "language_info": {
   "codemirror_mode": {
    "name": "ipython",
    "version": 3
   },
   "file_extension": ".py",
   "mimetype": "text/x-python",
   "name": "python",
   "nbconvert_exporter": "python",
   "pygments_lexer": "ipython3",
   "version": "3.9.7"
  }
 },
 "nbformat": 4,
 "nbformat_minor": 1
}
