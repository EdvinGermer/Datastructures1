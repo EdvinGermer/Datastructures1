{
 "cells": [
  {
   "cell_type": "markdown",
   "metadata": {
    "id": "FaPfaovG2yjW"
   },
   "source": [
    "# Using Google Colab\n",
    "\n",
    "Read through the **Getting started** paragraph in the [official documentation](https://colab.research.google.com/). You may also want to take a look into the **More resources** section.\n",
    "\n",
    "To add a new code block or text block, use the buttons in the menus above or hover your mouse between two blocks, where more buttons should appear.\n",
    "\n",
    "To execute all code blocks within this document, select `Runtime -> Run all`. When you submit your solution, this should run without throwing an error.\n",
    "\n",
    "Sometimes, previously defined variables cause trouble in later executions. If this is the case, you can select `Runtime -> Restart runtime` to restart the runtime and erase all previous definitions."
   ]
  },
  {
   "cell_type": "markdown",
   "metadata": {
    "id": "EHTS4x5-pJGK"
   },
   "source": [
    "# Work Distribution\n",
    "\n",
    "***Your answer here. (MANDATORY)***"
   ]
  },
  {
   "cell_type": "markdown",
   "metadata": {
    "id": "HGCavid-yeyz"
   },
   "source": [
    "# Initialisation\n",
    "\n",
    "This section contains code that is later used to test, measure and plot your implementations. You need to run it once to initialise it.\n",
    "\n",
    "⇩ Click here to initialise the code."
   ]
  },
  {
   "cell_type": "code",
   "execution_count": 52,
   "metadata": {
    "id": "yeijLV1byk2z"
   },
   "outputs": [],
   "source": [
    "# tests\n",
    "\n",
    "import random\n",
    "\n",
    "def shuffle(list):\n",
    "  random.shuffle(list)\n",
    "  return list\n",
    "\n",
    "tests = [(name, unsorted, sorted(unsorted)) for (name, unsorted) in [\n",
    "    (\"empty list\", []),\n",
    "    (\"one element\", [42]),\n",
    "    (\"digits ascending\", list(range(10))),\n",
    "    (\"digits descending\", list(reversed(range(10)))),\n",
    "    (\"digits shuffled\", shuffle(list(range(10)))),\n",
    "    (\"all entries the same\", [42 for _ in range(10)]),\n",
    "    (\"some duplicates\", shuffle(list(range(10)) + list(range(5)))),\n",
    "    (\"negative numbers\", shuffle([x - 10 for x in list(range(20))])),\n",
    "    (\"float numbers\", shuffle([x * 3.14 for x in list(range(20))])),\n",
    "    (\"mixed numbers\", shuffle([x * 3.14 for x in list(range(10))] + list(range(10)))),\n",
    "    *[(\"random numbers \" + str(idx) + \" (small)\", [random.randrange(1000) for _ in range(20)]) for idx in range(0, 5)],\n",
    "    *[(\"random numbers \" + str(idx) + \" (medium)\", [random.randrange(10000) for _ in range(200)]) for idx in range(5, 10)],\n",
    "    *[(\"random numbers \" + str(idx) + \" (large)\", [random.randrange(100000) for _ in range(2000)]) for idx in range(10, 15)],\n",
    "]]\n",
    "\n",
    "def run_tests(fun):\n",
    "  print(\"executing all tests on %s...\" % (fun.__name__))\n",
    "  ok = 0\n",
    "  err = 0\n",
    "  for name, input, expected in tests:\n",
    "    copy = input.copy()\n",
    "    try:\n",
    "      fun(copy)\n",
    "    except Exception as e:\n",
    "      print(\"Test '%s' raised an exception!\\n  input:     %s\\n  expected:  %s\\n  exception: %s\" % (name, input, expected, e))\n",
    "      raise e\n",
    "    else:\n",
    "      if copy == expected:\n",
    "        print(\"Test '%s' passed!\" % (name))\n",
    "        ok += 1\n",
    "      else:\n",
    "        print(\"Test '%s' failed!\\n  input:     %s\\n  output:    %s\\n  expected:  %s\" % (name, input, copy, expected))\n",
    "        err +=1\n",
    "  print(\"%s (summary): %d/%d OK, %d/%d ERROR\" % (fun.__name__, ok, len(tests), err, len(tests)))\n",
    "\n",
    "# runtime parameters\n",
    "\n",
    "num_samples = 20\n",
    "sizes = [2000 * i for i in range(1, 10)]\n",
    "\n",
    "# runtime plot\n",
    "\n",
    "import matplotlib.pyplot as plt\n",
    "\n",
    "def plot_runtime(funs, funs_checkered=None):\n",
    "  for fun in funs:\n",
    "    plt.plot(sizes, runtimeDict[fun.__name__], label=fun.__name__)\n",
    "  if funs_checkered:\n",
    "    plt.gca().set_prop_cycle(None)\n",
    "    for fun in funs_checkered:\n",
    "      plt.plot(sizes, runtimeDict[fun.__name__], '--', label=fun.__name__)\n",
    "\n",
    "  plt.xlabel('List Length')\n",
    "  plt.ylabel('Runtime (seconds)')\n",
    "  plt.title('Runtime vs List Length')\n",
    "\n",
    "  plt.legend()\n",
    "  plt.show()\n",
    "\n",
    "# runtime measurement\n",
    "\n",
    "import time\n",
    "\n",
    "runtimeDict = {}\n",
    "def measure_runtime(funs):\n",
    "  inputs = [[[random.random() for _ in range(size)] for _ in range(num_samples)] for size in sizes]\n",
    "\n",
    "  for fun in funs:\n",
    "    runtimes = []\n",
    "    for batch in inputs:\n",
    "      batch_rt = []\n",
    "      for input in batch:\n",
    "        copy = input.copy()\n",
    "        start_time = time.time()\n",
    "        fun(copy)\n",
    "        end_time = time.time()\n",
    "        batch_rt.append(end_time - start_time)\n",
    "      runtimes.append(min(batch_rt))\n",
    "    runtimeDict[fun.__name__] = runtimes"
   ]
  },
  {
   "cell_type": "markdown",
   "metadata": {
    "id": "__Iv5nnsvP09"
   },
   "source": [
    "# Sorting Algorithms\n",
    "\n",
    "In this exercise, you are going to implement the *Merge Sort*, *Quick Sort* and *Heap Sort* algorithms.\n",
    "\n",
    "- Each of your sorting functions should accept an unsorted list of numbers and sort it. Of course, you are allowed to add as many helper functions as needed.\n",
    "- Note that arrays (or lists) in the textbook are indexed from 1, whereas in Python (and most other programming languages) they are indexed from 0.\n",
    "- Your implementation should have a good performance with respect to the asymptotic complexity found in the literature.\n",
    "\n",
    "At the bottom of each code block, there is a function call to test your algorithm implementation. Run it to check if your implementation is correct.\n",
    "\n",
    "Below the algorithms in this document, there is a code block that reports runtime statistics. Furthermore, at the end of the document, there are a couple of questions you should answer."
   ]
  },
  {
   "cell_type": "markdown",
   "metadata": {
    "id": "btOQKCwJzRvH"
   },
   "source": [
    "### 1. Merge Sort (2 points)\n",
    "\n",
    "Implement Merge Sort as seen in the lecture.\n",
    "\n",
    "Hint: Start by implementing `merge` and then use it to implement `mergesort`."
   ]
  },
  {
   "cell_type": "code",
   "execution_count": 102,
   "metadata": {
    "id": "IReujo1Jxo8e",
    "scrolled": true
   },
   "outputs": [
    {
     "name": "stdout",
     "output_type": "stream",
     "text": [
      "executing all tests on mergesort...\n",
      "Test 'empty list' passed!\n",
      "Test 'one element' passed!\n",
      "Test 'digits ascending' passed!\n",
      "Test 'digits descending' passed!\n",
      "Test 'digits shuffled' passed!\n",
      "Test 'all entries the same' passed!\n",
      "Test 'some duplicates' passed!\n",
      "Test 'negative numbers' passed!\n",
      "Test 'float numbers' passed!\n",
      "Test 'mixed numbers' passed!\n",
      "Test 'random numbers 0 (small)' passed!\n",
      "Test 'random numbers 1 (small)' passed!\n",
      "Test 'random numbers 2 (small)' passed!\n",
      "Test 'random numbers 3 (small)' passed!\n",
      "Test 'random numbers 4 (small)' passed!\n",
      "Test 'random numbers 5 (medium)' passed!\n",
      "Test 'random numbers 6 (medium)' passed!\n",
      "Test 'random numbers 7 (medium)' passed!\n",
      "Test 'random numbers 8 (medium)' passed!\n",
      "Test 'random numbers 9 (medium)' passed!\n",
      "Test 'random numbers 10 (large)' passed!\n",
      "Test 'random numbers 11 (large)' passed!\n",
      "Test 'random numbers 12 (large)' passed!\n",
      "Test 'random numbers 13 (large)' passed!\n",
      "Test 'random numbers 14 (large)' passed!\n",
      "mergesort (summary): 25/25 OK, 0/25 ERROR\n"
     ]
    }
   ],
   "source": [
    "def merge(A, p, q, r):\n",
    "    \"\"\" A[p:r] is a subarray of the org A array\n",
    "        Iterare over subarrays L=A[p:q] and R=A[q+1:r] and sort into org A[p:r]\n",
    "    \"\"\"\n",
    "    # Find lengths of subarrays L and R\n",
    "    n1 = q-p+1\n",
    "    n2 = r-q\n",
    "    \n",
    "    # Create and fill subarrays L and R using A\n",
    "    L = [A[p+i] for i in range(n1)]\n",
    "    R = [A[q+j+1] for j in range(n2)]\n",
    "\n",
    "    # Add infinity to end of L and R\n",
    "    L.append(float('inf'))\n",
    "    R.append(float('inf'))\n",
    "    \n",
    "    # Iterate over L and R and sort into A\n",
    "    i,j = 0,0\n",
    "    for k in range(p,r+1):\n",
    "        if L[i] <= R[j]:\n",
    "            A[k] = L[i]\n",
    "            i+=1\n",
    "        else:\n",
    "            A[k] = R[j]\n",
    "            j+=1\n",
    "    \n",
    "    return A\n",
    "\n",
    "\n",
    "\n",
    "def mergesort(A, p=0, r=None):\n",
    "    \"\"\" Complete mergesort algorithm using the merge function defined above \"\"\"\n",
    "    \n",
    "    # Base case when calling function\n",
    "    if r is None:\n",
    "        r = len(A)-1\n",
    "    \n",
    "    # Recursive sort\n",
    "    if p < r:\n",
    "        q = abs((p + r)) // 2\n",
    "        mergesort(A, p, q)\n",
    "        mergesort(A, q + 1, r)\n",
    "        merge(A, p, q, r)\n",
    "        \n",
    "run_tests(mergesort)"
   ]
  },
  {
   "cell_type": "markdown",
   "metadata": {
    "id": "SmnEzYeX7rdi"
   },
   "source": [
    "### 2. Quick Sort (2 points)\n",
    "\n",
    "Implement Quick Sort as seen in the lecture.\n",
    "\n",
    "Hint: Start by implementing `partition` and then use it to implement `quicksort`."
   ]
  },
  {
   "cell_type": "code",
   "execution_count": 121,
   "metadata": {},
   "outputs": [],
   "source": [
    "def partition(A, p, r):\n",
    "    \"\"\"\n",
    "    Select pivot -> Iterate over list move all smaller to the left and larger to the right -> Move pivot to middle\n",
    "    \n",
    "    i is index for elements smaller than pivot\n",
    "    j is index for elements larger than pivot\n",
    "    \"\"\"\n",
    "    \n",
    "    # Select last element as pivot\n",
    "    x = A[r]\n",
    "    \n",
    "    # Iterate over all elements up to pivot\n",
    "    i = p-1\n",
    "    for j in range(p,r): # iterate to r-1\n",
    "        if A[j] <= x: # if current element smaller than pivot\n",
    "            \n",
    "            # Step index\n",
    "            i+=1\n",
    "            \n",
    "            # Move current element to the left\n",
    "            temp = A[i]\n",
    "            A[i] = A[j]\n",
    "            A[j] = temp\n",
    "            \n",
    "    # Swap pivot with first large element\n",
    "    temp = A[i+1]\n",
    "    A[i+1] = A[r]\n",
    "    A[r] = temp\n",
    "    \n",
    "    return i+1\n",
    "\n",
    "\n",
    "\n",
    "def quicksort(A, p=0, r=None):\n",
    "    \"\"\" Recursive quicksort function \"\"\"\n",
    "    if r is None:\n",
    "        r = len(A)-1\n",
    "    \n",
    "    if p < r:\n",
    "        q = partition(A,p,r)  # partition return the index of the last \"smaller\" elements than pivot (directly left of pivot)\n",
    "        quicksort(A,p,q-1) # Sort smaller than previous pivot\n",
    "        quicksort(A,q+1,r) # Sort larger than previous pivot\n",
    "         \n",
    "    return A"
   ]
  },
  {
   "cell_type": "code",
   "execution_count": 122,
   "metadata": {},
   "outputs": [
    {
     "name": "stdout",
     "output_type": "stream",
     "text": [
      "executing all tests on quicksort...\n",
      "Test 'empty list' passed!\n",
      "Test 'one element' passed!\n",
      "Test 'digits ascending' passed!\n",
      "Test 'digits descending' passed!\n",
      "Test 'digits shuffled' passed!\n",
      "Test 'all entries the same' passed!\n",
      "Test 'some duplicates' passed!\n",
      "Test 'negative numbers' passed!\n",
      "Test 'float numbers' passed!\n",
      "Test 'mixed numbers' passed!\n",
      "Test 'random numbers 0 (small)' passed!\n",
      "Test 'random numbers 1 (small)' passed!\n",
      "Test 'random numbers 2 (small)' passed!\n",
      "Test 'random numbers 3 (small)' passed!\n",
      "Test 'random numbers 4 (small)' passed!\n",
      "Test 'random numbers 5 (medium)' passed!\n",
      "Test 'random numbers 6 (medium)' passed!\n",
      "Test 'random numbers 7 (medium)' passed!\n",
      "Test 'random numbers 8 (medium)' passed!\n",
      "Test 'random numbers 9 (medium)' passed!\n",
      "Test 'random numbers 10 (large)' passed!\n",
      "Test 'random numbers 11 (large)' passed!\n",
      "Test 'random numbers 12 (large)' passed!\n",
      "Test 'random numbers 13 (large)' passed!\n",
      "Test 'random numbers 14 (large)' passed!\n",
      "quicksort (summary): 25/25 OK, 0/25 ERROR\n"
     ]
    }
   ],
   "source": [
    "run_tests(quicksort)"
   ]
  },
  {
   "cell_type": "markdown",
   "metadata": {
    "id": "3VwRfnzM1gu3"
   },
   "source": [
    "### 3. Heap Sort (3 points)\n",
    "\n",
    "Implement Heap Sort as seen in the lecture.\n",
    "\n",
    "Note that you do not have to define a new class for heaps (unless you\n",
    "want to), instead you can just use a plain list to store the heap and\n",
    "pass along an extra parameter `heap_size` to the functions that need it.\n",
    "\n",
    "Hint: Start by implementing `max_heapify` and `build_max_heap`, and then use them to implement `heapsort`."
   ]
  },
  {
   "cell_type": "code",
   "execution_count": 149,
   "metadata": {
    "id": "lsIff7q51iTq"
   },
   "outputs": [],
   "source": [
    "def max_heapify(A,i,heap_size):\n",
    "    \"\"\" Build max-heap assuming lower nodes are max-heaps \"\"\"\n",
    "    \n",
    "    # Find left and right index from node i\n",
    "    l = 2*i+1\n",
    "    r = 2*i+2\n",
    "    \n",
    "    # Find which child is larger\n",
    "    largest = i\n",
    "    if l < heap_size and A[l] > A[largest]:\n",
    "        largest = l\n",
    "    if r < heap_size and A[r] > A[largest]:\n",
    "        largest = r\n",
    "    \n",
    "    # Swap parent with larger child node\n",
    "    if largest != i:\n",
    "        temp = A[i]\n",
    "        A[i] = A[largest]\n",
    "        A[largest] = temp\n",
    "        \n",
    "        max_heapify(A,largest,heap_size)\n",
    "\n",
    "        \n",
    "        \n",
    "\n",
    "def build_max_heap(A):\n",
    "    \"\"\" Build the max-heap from the inital list \"\"\"\n",
    "    # Find current heap size\n",
    "    heap_size = len(A)\n",
    "    \n",
    "    # Heapify from the leafs up\n",
    "    for i in reversed(range(0,heap_size//2)):\n",
    "        max_heapify(A,i,heap_size)\n",
    "\n",
    "\n",
    "\n",
    "def heapsort(A):\n",
    "    \"\"\"\n",
    "    A.length is total elements in the FIRST heap\n",
    "    A.heap-size is total elements in current heap\n",
    "    \"\"\"\n",
    "    \n",
    "    # Build initial max-heap\n",
    "    build_max_heap(A)\n",
    "    \n",
    "    # Initial heap-length and heap-size are the same\n",
    "    heap_size = len(A)\n",
    "    \n",
    "    # Iterate until sorted, one element is sorted per iteration\n",
    "    for i in reversed(range(1,heap_size)):\n",
    "        \n",
    "        # Exchange first and last element of A  --> Exchange root and last leaf\n",
    "        temp = A[0]\n",
    "        A[0] = A[i]\n",
    "        A[i] = temp\n",
    "        \n",
    "        # One element sorted so heap_size is decreased\n",
    "        heap_size -= 1\n",
    "        \n",
    "        # Rebuild the max heap from the root node\n",
    "        max_heapify(A,0,heap_size)\n"
   ]
  },
  {
   "cell_type": "code",
   "execution_count": 151,
   "metadata": {},
   "outputs": [
    {
     "name": "stdout",
     "output_type": "stream",
     "text": [
      "[1, 2, 4, 5, 6, 7, 8, 10, 15, 20, 21, 22, 24]\n"
     ]
    }
   ],
   "source": [
    "A = [20,8,10,6,15,7,4,2,5,1,21,22,24]\n",
    "heapsort(A)\n",
    "print(A)"
   ]
  },
  {
   "cell_type": "code",
   "execution_count": 152,
   "metadata": {},
   "outputs": [
    {
     "name": "stdout",
     "output_type": "stream",
     "text": [
      "executing all tests on heapsort...\n",
      "Test 'empty list' passed!\n",
      "Test 'one element' passed!\n",
      "Test 'digits ascending' passed!\n",
      "Test 'digits descending' passed!\n",
      "Test 'digits shuffled' passed!\n",
      "Test 'all entries the same' passed!\n",
      "Test 'some duplicates' passed!\n",
      "Test 'negative numbers' passed!\n",
      "Test 'float numbers' passed!\n",
      "Test 'mixed numbers' passed!\n",
      "Test 'random numbers 0 (small)' passed!\n",
      "Test 'random numbers 1 (small)' passed!\n",
      "Test 'random numbers 2 (small)' passed!\n",
      "Test 'random numbers 3 (small)' passed!\n",
      "Test 'random numbers 4 (small)' passed!\n",
      "Test 'random numbers 5 (medium)' passed!\n",
      "Test 'random numbers 6 (medium)' passed!\n",
      "Test 'random numbers 7 (medium)' passed!\n",
      "Test 'random numbers 8 (medium)' passed!\n",
      "Test 'random numbers 9 (medium)' passed!\n",
      "Test 'random numbers 10 (large)' passed!\n",
      "Test 'random numbers 11 (large)' passed!\n",
      "Test 'random numbers 12 (large)' passed!\n",
      "Test 'random numbers 13 (large)' passed!\n",
      "Test 'random numbers 14 (large)' passed!\n",
      "heapsort (summary): 25/25 OK, 0/25 ERROR\n"
     ]
    }
   ],
   "source": [
    "run_tests(heapsort)"
   ]
  },
  {
   "cell_type": "markdown",
   "metadata": {
    "id": "gD-ax-QCWYhh"
   },
   "source": [
    "### 4. Runtime Comparisons (2 points)\n",
    "\n",
    "The following code will measure the runtime of your algorithm implementations.\n",
    "\n",
    "Compare the reported runtimes. What do you observe? How do you explain your observations?\n",
    "\n",
    "How do the runtimes compare to those from the first assignment sheet (Insertion Sort, Selection Sort, Sink Sort)?"
   ]
  },
  {
   "cell_type": "code",
   "execution_count": 153,
   "metadata": {
    "id": "JZXzNKy9WW3K"
   },
   "outputs": [
    {
     "data": {
      "image/png": "[encoded data removed]",
      "text/plain": [
       "<Figure size 432x288 with 1 Axes>"
      ]
     },
     "metadata": {
      "needs_background": "light"
     },
     "output_type": "display_data"
    }
   ],
   "source": [
    "measure_runtime([heapsort, mergesort, quicksort])\n",
    "plot_runtime([heapsort, mergesort, quicksort])"
   ]
  },
  {
   "cell_type": "markdown",
   "metadata": {
    "id": "JOf5r0M_ItTV"
   },
   "source": [
    "**Answer:**\n",
    "\n",
    "From the three sorting algorithms implemented in this assignment we seem to observe almost linear behavior. This is because the time complexity for all the algorithms are O(n) = n*log(n).\n",
    "\n",
    "This is very different from the previous assignment where the time complexity instead was O(n) = n^2. Which showed a much more exponential behavior in the plots"
   ]
  },
  {
   "cell_type": "markdown",
   "metadata": {
    "id": "NSs85f3Uqpbq"
   },
   "source": [
    "### 5. Runtime Approximations (1 point)\n",
    "\n",
    "Remark: In this question, we will take Heap Sort as an example, but the results also carry over to Merge Sort or Quick Sort.\n",
    "\n",
    "Using the statistics from the tests, find a constant `c` such that `f_heap(n) = c * n` is a *linear* (!) function which *approximately* describes the runtime of Heap Sort in *seconds*, depending on the input size `n`.\n",
    "\n",
    "Implement the function and look at the runtime plot below. You should notice that `f_heap` seems to be a good approximation of the runtime of Heap Sort (usually not much more than 10% error), at least in the displayed range of `n = 2000, ..., 18000`.\n",
    "\n",
    "Compare to the asymptotic runtime of Heap Sort known from the lecture. How do you explain your observation? Will the approximation still be good with smaller or larger input sizes?"
   ]
  },
  {
   "cell_type": "code",
   "execution_count": 181,
   "metadata": {},
   "outputs": [
    {
     "name": "stdout",
     "output_type": "stream",
     "text": [
      "t(n) = 4.877412319183349e-06 * n\n"
     ]
    }
   ],
   "source": [
    "import random\n",
    "import time\n",
    "import numpy as np\n",
    "\n",
    "n = 10000\n",
    "\n",
    "c = []\n",
    "for _ in range(20):\n",
    "    lst = [random.randint(0,100) for x in range(0,n)]\n",
    "\n",
    "    t1 = time.time()\n",
    "    heapsort(lst)\n",
    "    measure = time.time()-t1\n",
    "\n",
    "    # t(n) = c * n\n",
    "    c.append(measure/n)\n",
    "print(f\"t(n) = {np.mean(c)} * n\")"
   ]
  },
  {
   "cell_type": "code",
   "execution_count": 182,
   "metadata": {
    "id": "IUrmxtq7DTVA"
   },
   "outputs": [
    {
     "data": {
      "image/png": "[encoded data removed]",
      "text/plain": [
       "<Figure size 432x288 with 1 Axes>"
      ]
     },
     "metadata": {
      "needs_background": "light"
     },
     "output_type": "display_data"
    }
   ],
   "source": [
    "def f_heap(size):\n",
    "    return 4.877412319183349e-06 * size\n",
    "\n",
    "# plot all functions\n",
    "runtimeDict[f_heap.__name__] = [f_heap(size) for size in sizes]\n",
    "plot_runtime([heapsort, mergesort, quicksort], [f_heap])"
   ]
  },
  {
   "cell_type": "markdown",
   "metadata": {
    "id": "94ZfX-YHUSAL"
   },
   "source": [
    "**Answer:**\n",
    "\n",
    "The time complexity for heap sort is n*log(n) as known from the lecture.\n",
    "The linear approximation (f(n) = c * n) of the runtime gives a fairly good estimation around the value of n used to find the constant c. However, as n grows the approximation will become worse and worse as n*log(n) will grow much faster than n for large value of n. Because of this fact, the aproximation is better around the value of n used and for smaller n."
   ]
  },
  {
   "cell_type": "code",
   "execution_count": null,
   "metadata": {},
   "outputs": [],
   "source": []
  }
 ],
 "metadata": {
  "colab": {
   "collapsed_sections": [
    "HGCavid-yeyz"
   ],
   "provenance": []
  },
  "kernelspec": {
   "display_name": "Python 3 (ipykernel)",
   "language": "python",
   "name": "python3"
  },
  "language_info": {
   "codemirror_mode": {
    "name": "ipython",
    "version": 3
   },
   "file_extension": ".py",
   "mimetype": "text/x-python",
   "name": "python",
   "nbconvert_exporter": "python",
   "pygments_lexer": "ipython3",
   "version": "3.9.7"
  }
 },
 "nbformat": 4,
 "nbformat_minor": 1
}
